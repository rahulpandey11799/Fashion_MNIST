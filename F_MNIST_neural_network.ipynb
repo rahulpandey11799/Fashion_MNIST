{
  "nbformat": 4,
  "nbformat_minor": 0,
  "metadata": {
    "colab": {
      "private_outputs": true,
      "provenance": [],
      "collapsed_sections": []
    },
    "kernelspec": {
      "name": "python3",
      "display_name": "Python 3"
    },
    "language_info": {
      "name": "python"
    }
  },
  "cells": [
    {
      "cell_type": "markdown",
      "source": [
        "## **Loading Libraries**"
      ],
      "metadata": {
        "id": "6XsIbcTM2H8A"
      }
    },
    {
      "cell_type": "code",
      "execution_count": null,
      "metadata": {
        "id": "IHFLWhLjYqqB"
      },
      "outputs": [],
      "source": [
        "import tensorflow as tf\n",
        "import matplotlib.pyplot as plt"
      ]
    },
    {
      "cell_type": "markdown",
      "source": [
        "## **Loading DataSet**"
      ],
      "metadata": {
        "id": "Pl4ygkNY3Ae2"
      }
    },
    {
      "cell_type": "code",
      "source": [
        "from tensorflow.keras.datasets import fashion_mnist\n",
        "(train_images, train_labels), (test_images, test_labels) = fashion_mnist.load_data()"
      ],
      "metadata": {
        "id": "wNpeyU0vZGyk"
      },
      "execution_count": null,
      "outputs": []
    },
    {
      "cell_type": "markdown",
      "source": [
        "## **Cheak the shape of my dataset**"
      ],
      "metadata": {
        "id": "2ipChxYd3Lo-"
      }
    },
    {
      "cell_type": "code",
      "source": [
        "train_images.shape"
      ],
      "metadata": {
        "id": "JTkf-xtqZsot"
      },
      "execution_count": null,
      "outputs": []
    },
    {
      "cell_type": "markdown",
      "source": [
        "## **Show my DataSet**"
      ],
      "metadata": {
        "id": "Ak3bKK_S3TUO"
      }
    },
    {
      "cell_type": "code",
      "source": [
        "plt.rcParams['figure.figsize'] = (28,28) # Make the figures a bit bigger\n",
        "\n",
        "for i in range(100):\n",
        "    plt.subplot(28,28,i+1)\n",
        "   \n",
        "    plt.imshow(train_images[i], cmap='gray', interpolation='none')\n",
        "    #plt.title(\"Class {}\".format(train_labels[i]))\n",
        "    \n",
        "plt.tight_layout()"
      ],
      "metadata": {
        "id": "JWgbTw7najuy"
      },
      "execution_count": null,
      "outputs": []
    },
    {
      "cell_type": "markdown",
      "source": [
        "## **Add Hidden Layer with Activation Function**"
      ],
      "metadata": {
        "id": "c-cxX00q3eal"
      }
    },
    {
      "cell_type": "code",
      "source": [
        "from keras import models\n",
        "from keras import layers\n",
        "\n",
        "network = models.Sequential()\n",
        "network.add(layers.Dense(512, activation='sigmoid', input_shape=(28*28,)))\n",
        "network.add(layers.Dense(10, activation='softmax'))\n",
        "# network.add(layers.Dense(10, activation='softmax'))"
      ],
      "metadata": {
        "id": "wQ3GL5j7ckiB"
      },
      "execution_count": null,
      "outputs": []
    },
    {
      "cell_type": "markdown",
      "source": [
        "## **Use Optimizer and loss Function**"
      ],
      "metadata": {
        "id": "nR78RZBK3-Nd"
      }
    },
    {
      "cell_type": "code",
      "source": [
        "network.compile(optimizer='rmsprop',\n",
        "loss=tf.keras.losses.CategoricalCrossentropy(),\n",
        "metrics=['accuracy'])"
      ],
      "metadata": {
        "id": "LcPTqmljhAu7"
      },
      "execution_count": null,
      "outputs": []
    },
    {
      "cell_type": "markdown",
      "source": [
        "## **Summary of my Dataset**"
      ],
      "metadata": {
        "id": "xlg6nfG14NTM"
      }
    },
    {
      "cell_type": "code",
      "source": [
        "network.summary()"
      ],
      "metadata": {
        "id": "miLwZOtEh6gb"
      },
      "execution_count": null,
      "outputs": []
    },
    {
      "cell_type": "code",
      "source": [
        "train_images = train_images.reshape((60000, 28 * 28))\n",
        "train_images = train_images.astype('float32') / 255\n",
        "test_images = test_images.reshape((10000, 28 * 28))\n",
        "test_images = test_images.astype('float32') / 255"
      ],
      "metadata": {
        "id": "XKuvOeBsh9Iy"
      },
      "execution_count": null,
      "outputs": []
    },
    {
      "cell_type": "code",
      "source": [
        "from tensorflow.keras.utils import to_categorical\n",
        "train_labels = to_categorical(train_labels)\n",
        "test_labels = to_categorical(test_labels)"
      ],
      "metadata": {
        "id": "ryzU50GwiFtD"
      },
      "execution_count": null,
      "outputs": []
    },
    {
      "cell_type": "markdown",
      "source": [
        "## **Fit Model and Check my Accuracy**"
      ],
      "metadata": {
        "id": "WMTXU1XX4Ztt"
      }
    },
    {
      "cell_type": "code",
      "source": [
        " network.fit(train_images, train_labels, epochs=10,batch_size=128)"
      ],
      "metadata": {
        "id": "Z4zhXPi6iGcq"
      },
      "execution_count": null,
      "outputs": []
    },
    {
      "cell_type": "markdown",
      "source": [
        "## **Evaluate Accuracy**"
      ],
      "metadata": {
        "id": "RtiO6ku74jxK"
      }
    },
    {
      "cell_type": "code",
      "source": [
        "test_loss, test_acc = network.evaluate(test_images,test_labels)\n",
        "print('test_acc:', test_acc)"
      ],
      "metadata": {
        "id": "0LSOpRlYiKqp"
      },
      "execution_count": null,
      "outputs": []
    },
    {
      "cell_type": "code",
      "source": [
        "network.save('mn.h5')"
      ],
      "metadata": {
        "id": "g8e5QLfy2ijH"
      },
      "execution_count": null,
      "outputs": []
    }
  ]
}